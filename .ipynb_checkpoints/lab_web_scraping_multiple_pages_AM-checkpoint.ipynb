{
 "cells": [
  {
   "cell_type": "markdown",
   "id": "d116262f",
   "metadata": {},
   "source": [
    "## Lab | Web Scraping Multiple Pages\n",
    "\n",
    "Antonio Montilla"
   ]
  },
  {
   "cell_type": "code",
   "execution_count": 1,
   "id": "a7b6dd07",
   "metadata": {},
   "outputs": [],
   "source": [
    "#importing libraries\n",
    "from bs4 import BeautifulSoup\n",
    "import requests\n",
    "import pandas as pd"
   ]
  },
  {
   "cell_type": "markdown",
   "id": "44736c6f",
   "metadata": {},
   "source": [
    "### (1) Display the top 10 languages by number of native speakers stored in a pandas dataframe\n",
    "\n",
    "https://en.wikipedia.org/wiki/List_of_languages_by_number_of_native_speakers"
   ]
  },
  {
   "cell_type": "code",
   "execution_count": 2,
   "id": "cbac344a",
   "metadata": {},
   "outputs": [],
   "source": [
    "#copying url\n",
    "url = \"https://en.wikipedia.org/wiki/List_of_languages_by_number_of_native_speakers\""
   ]
  },
  {
   "cell_type": "code",
   "execution_count": 3,
   "id": "9618aed1",
   "metadata": {},
   "outputs": [
    {
     "data": {
      "text/plain": [
       "200"
      ]
     },
     "execution_count": 3,
     "metadata": {},
     "output_type": "execute_result"
    }
   ],
   "source": [
    "#downloading html\n",
    "response = requests.get(url)\n",
    "response.status_code # 200 status code means OK!"
   ]
  },
  {
   "cell_type": "code",
   "execution_count": 4,
   "id": "df84add0",
   "metadata": {},
   "outputs": [],
   "source": [
    "#parseing html with BeatifulSoup\n",
    "soup = BeautifulSoup(response.content, \"html.parser\")"
   ]
  },
  {
   "cell_type": "code",
   "execution_count": 7,
   "id": "91c46133",
   "metadata": {},
   "outputs": [],
   "source": [
    "#selecting the first table\n",
    "speakers = soup.select(\"table\")[0]"
   ]
  },
  {
   "cell_type": "code",
   "execution_count": 9,
   "id": "26a78b8b",
   "metadata": {},
   "outputs": [],
   "source": [
    "rows = speakers.find_all('tr')[1:11]\n",
    "languages = []\n",
    "native_speakers = []\n",
    "\n",
    "for row in rows:\n",
    "    columns = row.find_all('td')    \n",
    "    language = columns[0].text.strip()\n",
    "    native_speaker = columns[1].text.strip()    \n",
    "    languages.append(language)\n",
    "    native_speakers.append(native_speaker)\n",
    "\n",
    "top10_languages = pd.DataFrame({\"language\":languages, \"native_speakers\":native_speakers})"
   ]
  },
  {
   "cell_type": "code",
   "execution_count": 10,
   "id": "ab1b3741",
   "metadata": {},
   "outputs": [
    {
     "data": {
      "text/html": [
       "<div>\n",
       "<style scoped>\n",
       "    .dataframe tbody tr th:only-of-type {\n",
       "        vertical-align: middle;\n",
       "    }\n",
       "\n",
       "    .dataframe tbody tr th {\n",
       "        vertical-align: top;\n",
       "    }\n",
       "\n",
       "    .dataframe thead th {\n",
       "        text-align: right;\n",
       "    }\n",
       "</style>\n",
       "<table border=\"1\" class=\"dataframe\">\n",
       "  <thead>\n",
       "    <tr style=\"text-align: right;\">\n",
       "      <th></th>\n",
       "      <th>language</th>\n",
       "      <th>native_speakers</th>\n",
       "    </tr>\n",
       "  </thead>\n",
       "  <tbody>\n",
       "    <tr>\n",
       "      <th>0</th>\n",
       "      <td>Mandarin Chinese</td>\n",
       "      <td>939</td>\n",
       "    </tr>\n",
       "    <tr>\n",
       "      <th>1</th>\n",
       "      <td>Spanish</td>\n",
       "      <td>485</td>\n",
       "    </tr>\n",
       "    <tr>\n",
       "      <th>2</th>\n",
       "      <td>English</td>\n",
       "      <td>380</td>\n",
       "    </tr>\n",
       "    <tr>\n",
       "      <th>3</th>\n",
       "      <td>Hindi</td>\n",
       "      <td>345</td>\n",
       "    </tr>\n",
       "    <tr>\n",
       "      <th>4</th>\n",
       "      <td>Portuguese</td>\n",
       "      <td>236</td>\n",
       "    </tr>\n",
       "    <tr>\n",
       "      <th>5</th>\n",
       "      <td>Bengali</td>\n",
       "      <td>234</td>\n",
       "    </tr>\n",
       "    <tr>\n",
       "      <th>6</th>\n",
       "      <td>Russian</td>\n",
       "      <td>147</td>\n",
       "    </tr>\n",
       "    <tr>\n",
       "      <th>7</th>\n",
       "      <td>Japanese</td>\n",
       "      <td>123</td>\n",
       "    </tr>\n",
       "    <tr>\n",
       "      <th>8</th>\n",
       "      <td>Yue Chinese</td>\n",
       "      <td>86.1</td>\n",
       "    </tr>\n",
       "    <tr>\n",
       "      <th>9</th>\n",
       "      <td>Vietnamese</td>\n",
       "      <td>85.0</td>\n",
       "    </tr>\n",
       "  </tbody>\n",
       "</table>\n",
       "</div>"
      ],
      "text/plain": [
       "           language native_speakers\n",
       "0  Mandarin Chinese             939\n",
       "1           Spanish             485\n",
       "2           English             380\n",
       "3             Hindi             345\n",
       "4        Portuguese             236\n",
       "5           Bengali             234\n",
       "6           Russian             147\n",
       "7          Japanese             123\n",
       "8       Yue Chinese            86.1\n",
       "9        Vietnamese            85.0"
      ]
     },
     "execution_count": 10,
     "metadata": {},
     "output_type": "execute_result"
    }
   ],
   "source": [
    "top10_languages"
   ]
  },
  {
   "cell_type": "markdown",
   "id": "a5ae2fbf",
   "metadata": {},
   "source": [
    "### (2) Display the 20 latest earthquakes info (date, time, latitude, longitude and region name) by the EMSC\n",
    "\n",
    "https://www.emsc-csem.org/Earthquake/"
   ]
  },
  {
   "cell_type": "code",
   "execution_count": 11,
   "id": "677a3047",
   "metadata": {},
   "outputs": [],
   "source": [
    "url = 'https://www.emsc-csem.org/Earthquake/'"
   ]
  },
  {
   "cell_type": "code",
   "execution_count": 12,
   "id": "95370ac7",
   "metadata": {},
   "outputs": [
    {
     "data": {
      "text/plain": [
       "200"
      ]
     },
     "execution_count": 12,
     "metadata": {},
     "output_type": "execute_result"
    }
   ],
   "source": [
    "#downloading html\n",
    "response = requests.get(url)\n",
    "response.status_code # 200 status code means OK!"
   ]
  },
  {
   "cell_type": "code",
   "execution_count": 13,
   "id": "e64a68cc",
   "metadata": {},
   "outputs": [],
   "source": [
    "#parseing html with BeatifulSoup\n",
    "soup = BeautifulSoup(response.content, \"html.parser\")"
   ]
  },
  {
   "cell_type": "code",
   "execution_count": 34,
   "id": "1edd7e13",
   "metadata": {},
   "outputs": [],
   "source": [
    "#body > div.content > div.htab > table > tbody\n",
    "earthquake_table = soup.find('table', {'class': 'eqs'})\n",
    "date_times = []\n",
    "latitudes = []\n",
    "longitudes = []\n",
    "regions = []\n",
    "for row in earthquake_table.find('tbody').find_all('tr'):#[:20]:  # to select only latest 20\n",
    "    columns = row.find_all('td')    \n",
    "    date_time = columns[3].text.strip()\n",
    "    latitude = float(columns[4].text.strip())\n",
    "    longitude = float(columns[5].text.strip())\n",
    "    region = columns[8].text.strip()\n",
    "    date_times.append(date_time)\n",
    "    regions.append(region)\n",
    "    latitudes.append(latitude)\n",
    "    longitudes.append(longitude)\n",
    "\n",
    "latest20_earthquakes = pd.DataFrame({\"date_time\":date_times, \"latitude\":latitudes, \"longitude\":longitudes, \"region\":regions})\n",
    "#did not really delivers the data with this function"
   ]
  },
  {
   "cell_type": "markdown",
   "id": "90588548",
   "metadata": {},
   "source": [
    "### (3) A list with the different kind of datasets available in url = 'https://data.gov.uk/'"
   ]
  },
  {
   "cell_type": "code",
   "execution_count": 36,
   "id": "e03db188",
   "metadata": {},
   "outputs": [],
   "source": [
    "url = 'https://data.gov.uk/'"
   ]
  },
  {
   "cell_type": "code",
   "execution_count": 37,
   "id": "7b4f44cd",
   "metadata": {},
   "outputs": [
    {
     "data": {
      "text/plain": [
       "200"
      ]
     },
     "execution_count": 37,
     "metadata": {},
     "output_type": "execute_result"
    }
   ],
   "source": [
    "#downloading html\n",
    "response = requests.get(url)\n",
    "response.status_code # 200 status code means OK!"
   ]
  },
  {
   "cell_type": "code",
   "execution_count": 38,
   "id": "7c629c2a",
   "metadata": {},
   "outputs": [],
   "source": [
    "#parseing html with BeatifulSoup\n",
    "soup = BeautifulSoup(response.content, \"html.parser\")"
   ]
  },
  {
   "cell_type": "code",
   "execution_count": 85,
   "id": "d0fa0446",
   "metadata": {},
   "outputs": [],
   "source": [
    "websites = soup.select(\"#main-content > div:nth-child(3) > div > ul > li\")\n",
    "#websites"
   ]
  },
  {
   "cell_type": "code",
   "execution_count": 61,
   "id": "60fae875",
   "metadata": {},
   "outputs": [],
   "source": [
    "names = []\n",
    "descriptions = []\n",
    "links = []\n",
    "for li in websites:\n",
    "    name = li.find('h3', {'class': 'govuk-heading-s dgu-topics__heading'}).text.strip()\n",
    "    description = li.find('p', {'class': 'govuk-body'}).text.strip()\n",
    "    link = \"https://www.data.gov.uk/\"+li.find('a', {'class': 'govuk-link'})['href']\n",
    "    names.append(name)\n",
    "    descriptions.append(description)\n",
    "    links.append(link)\n",
    "gov_websites = pd.DataFrame({\"website\":names, \"description\":descriptions, \"url\":links})"
   ]
  },
  {
   "cell_type": "code",
   "execution_count": 62,
   "id": "a4cd5e6e",
   "metadata": {},
   "outputs": [
    {
     "data": {
      "text/html": [
       "<div>\n",
       "<style scoped>\n",
       "    .dataframe tbody tr th:only-of-type {\n",
       "        vertical-align: middle;\n",
       "    }\n",
       "\n",
       "    .dataframe tbody tr th {\n",
       "        vertical-align: top;\n",
       "    }\n",
       "\n",
       "    .dataframe thead th {\n",
       "        text-align: right;\n",
       "    }\n",
       "</style>\n",
       "<table border=\"1\" class=\"dataframe\">\n",
       "  <thead>\n",
       "    <tr style=\"text-align: right;\">\n",
       "      <th></th>\n",
       "      <th>website</th>\n",
       "      <th>description</th>\n",
       "      <th>url</th>\n",
       "    </tr>\n",
       "  </thead>\n",
       "  <tbody>\n",
       "    <tr>\n",
       "      <th>0</th>\n",
       "      <td>Business and economy</td>\n",
       "      <td>Small businesses, industry, imports, exports a...</td>\n",
       "      <td>https://www.data.gov.uk//search?filters%5Btopi...</td>\n",
       "    </tr>\n",
       "    <tr>\n",
       "      <th>1</th>\n",
       "      <td>Crime and justice</td>\n",
       "      <td>Courts, police, prison, offenders, borders and...</td>\n",
       "      <td>https://www.data.gov.uk//search?filters%5Btopi...</td>\n",
       "    </tr>\n",
       "    <tr>\n",
       "      <th>2</th>\n",
       "      <td>Defence</td>\n",
       "      <td>Armed forces, health and safety, search and re...</td>\n",
       "      <td>https://www.data.gov.uk//search?filters%5Btopi...</td>\n",
       "    </tr>\n",
       "    <tr>\n",
       "      <th>3</th>\n",
       "      <td>Education</td>\n",
       "      <td>Students, training, qualifications and the Nat...</td>\n",
       "      <td>https://www.data.gov.uk//search?filters%5Btopi...</td>\n",
       "    </tr>\n",
       "    <tr>\n",
       "      <th>4</th>\n",
       "      <td>Environment</td>\n",
       "      <td>Weather, flooding, rivers, air quality, geolog...</td>\n",
       "      <td>https://www.data.gov.uk//search?filters%5Btopi...</td>\n",
       "    </tr>\n",
       "    <tr>\n",
       "      <th>5</th>\n",
       "      <td>Government</td>\n",
       "      <td>Staff numbers and pay, local councillors and d...</td>\n",
       "      <td>https://www.data.gov.uk//search?filters%5Btopi...</td>\n",
       "    </tr>\n",
       "    <tr>\n",
       "      <th>6</th>\n",
       "      <td>Government spending</td>\n",
       "      <td>Includes all payments by government department...</td>\n",
       "      <td>https://www.data.gov.uk//search?filters%5Btopi...</td>\n",
       "    </tr>\n",
       "    <tr>\n",
       "      <th>7</th>\n",
       "      <td>Health</td>\n",
       "      <td>Includes smoking, drugs, alcohol, medicine per...</td>\n",
       "      <td>https://www.data.gov.uk//search?filters%5Btopi...</td>\n",
       "    </tr>\n",
       "    <tr>\n",
       "      <th>8</th>\n",
       "      <td>Mapping</td>\n",
       "      <td>Addresses, boundaries, land ownership, aerial ...</td>\n",
       "      <td>https://www.data.gov.uk//search?filters%5Btopi...</td>\n",
       "    </tr>\n",
       "    <tr>\n",
       "      <th>9</th>\n",
       "      <td>Society</td>\n",
       "      <td>Employment, benefits, household finances, pove...</td>\n",
       "      <td>https://www.data.gov.uk//search?filters%5Btopi...</td>\n",
       "    </tr>\n",
       "    <tr>\n",
       "      <th>10</th>\n",
       "      <td>Towns and cities</td>\n",
       "      <td>Includes housing, urban planning, leisure, was...</td>\n",
       "      <td>https://www.data.gov.uk//search?filters%5Btopi...</td>\n",
       "    </tr>\n",
       "    <tr>\n",
       "      <th>11</th>\n",
       "      <td>Transport</td>\n",
       "      <td>Airports, roads, freight, electric vehicles, p...</td>\n",
       "      <td>https://www.data.gov.uk//search?filters%5Btopi...</td>\n",
       "    </tr>\n",
       "    <tr>\n",
       "      <th>12</th>\n",
       "      <td>Digital service performance</td>\n",
       "      <td>Cost, usage, completion rate, digital take-up,...</td>\n",
       "      <td>https://www.data.gov.uk//search?filters%5Btopi...</td>\n",
       "    </tr>\n",
       "    <tr>\n",
       "      <th>13</th>\n",
       "      <td>Government reference data</td>\n",
       "      <td>Trusted data that is referenced and shared acr...</td>\n",
       "      <td>https://www.data.gov.uk//search?filters%5Btopi...</td>\n",
       "    </tr>\n",
       "  </tbody>\n",
       "</table>\n",
       "</div>"
      ],
      "text/plain": [
       "                        website  \\\n",
       "0          Business and economy   \n",
       "1             Crime and justice   \n",
       "2                       Defence   \n",
       "3                     Education   \n",
       "4                   Environment   \n",
       "5                    Government   \n",
       "6           Government spending   \n",
       "7                        Health   \n",
       "8                       Mapping   \n",
       "9                       Society   \n",
       "10             Towns and cities   \n",
       "11                    Transport   \n",
       "12  Digital service performance   \n",
       "13    Government reference data   \n",
       "\n",
       "                                          description  \\\n",
       "0   Small businesses, industry, imports, exports a...   \n",
       "1   Courts, police, prison, offenders, borders and...   \n",
       "2   Armed forces, health and safety, search and re...   \n",
       "3   Students, training, qualifications and the Nat...   \n",
       "4   Weather, flooding, rivers, air quality, geolog...   \n",
       "5   Staff numbers and pay, local councillors and d...   \n",
       "6   Includes all payments by government department...   \n",
       "7   Includes smoking, drugs, alcohol, medicine per...   \n",
       "8   Addresses, boundaries, land ownership, aerial ...   \n",
       "9   Employment, benefits, household finances, pove...   \n",
       "10  Includes housing, urban planning, leisure, was...   \n",
       "11  Airports, roads, freight, electric vehicles, p...   \n",
       "12  Cost, usage, completion rate, digital take-up,...   \n",
       "13  Trusted data that is referenced and shared acr...   \n",
       "\n",
       "                                                  url  \n",
       "0   https://www.data.gov.uk//search?filters%5Btopi...  \n",
       "1   https://www.data.gov.uk//search?filters%5Btopi...  \n",
       "2   https://www.data.gov.uk//search?filters%5Btopi...  \n",
       "3   https://www.data.gov.uk//search?filters%5Btopi...  \n",
       "4   https://www.data.gov.uk//search?filters%5Btopi...  \n",
       "5   https://www.data.gov.uk//search?filters%5Btopi...  \n",
       "6   https://www.data.gov.uk//search?filters%5Btopi...  \n",
       "7   https://www.data.gov.uk//search?filters%5Btopi...  \n",
       "8   https://www.data.gov.uk//search?filters%5Btopi...  \n",
       "9   https://www.data.gov.uk//search?filters%5Btopi...  \n",
       "10  https://www.data.gov.uk//search?filters%5Btopi...  \n",
       "11  https://www.data.gov.uk//search?filters%5Btopi...  \n",
       "12  https://www.data.gov.uk//search?filters%5Btopi...  \n",
       "13  https://www.data.gov.uk//search?filters%5Btopi...  "
      ]
     },
     "execution_count": 62,
     "metadata": {},
     "output_type": "execute_result"
    }
   ],
   "source": [
    "gov_websites"
   ]
  },
  {
   "cell_type": "markdown",
   "id": "0c529dd9",
   "metadata": {},
   "source": [
    "### (4) List all language names and number of related articles in the order they appear in wikipedia.org: \n",
    "\n",
    "url = 'https://www.wikipedia.org/'"
   ]
  },
  {
   "cell_type": "code",
   "execution_count": 65,
   "id": "513472ec",
   "metadata": {},
   "outputs": [],
   "source": [
    "url = 'https://www.wikipedia.org/'"
   ]
  },
  {
   "cell_type": "code",
   "execution_count": 66,
   "id": "512c116d",
   "metadata": {},
   "outputs": [
    {
     "data": {
      "text/plain": [
       "200"
      ]
     },
     "execution_count": 66,
     "metadata": {},
     "output_type": "execute_result"
    }
   ],
   "source": [
    "#downloading html\n",
    "response = requests.get(url)\n",
    "response.status_code # 200 status code means OK!"
   ]
  },
  {
   "cell_type": "code",
   "execution_count": 67,
   "id": "5debf33a",
   "metadata": {},
   "outputs": [],
   "source": [
    "#parseing html with BeatifulSoup\n",
    "soup = BeautifulSoup(response.content, \"html.parser\")\n"
   ]
  },
  {
   "cell_type": "code",
   "execution_count": 80,
   "id": "0e97deb8",
   "metadata": {},
   "outputs": [],
   "source": [
    "#wiki = soup.select(\"div.central-featured\")\n",
    "##www-wikipedia-org > div.central-featured\n",
    "wiki = soup.find_all('div', class_='central-featured-lang')"
   ]
  },
  {
   "cell_type": "code",
   "execution_count": 83,
   "id": "5b312b9a",
   "metadata": {},
   "outputs": [],
   "source": [
    "languages = []\n",
    "articles = []\n",
    "\n",
    "for div in wiki:\n",
    "    language = div.find('strong').text.strip()\n",
    "    articles_num = div.find('bdi').text.strip()\n",
    "    languages.append(language)\n",
    "    articles.append(articles_num)\n",
    "\n",
    "wiki_articles = pd.DataFrame({\"language\":languages, \"number_articles\":articles})"
   ]
  },
  {
   "cell_type": "code",
   "execution_count": 84,
   "id": "313bd7d6",
   "metadata": {},
   "outputs": [
    {
     "data": {
      "text/html": [
       "<div>\n",
       "<style scoped>\n",
       "    .dataframe tbody tr th:only-of-type {\n",
       "        vertical-align: middle;\n",
       "    }\n",
       "\n",
       "    .dataframe tbody tr th {\n",
       "        vertical-align: top;\n",
       "    }\n",
       "\n",
       "    .dataframe thead th {\n",
       "        text-align: right;\n",
       "    }\n",
       "</style>\n",
       "<table border=\"1\" class=\"dataframe\">\n",
       "  <thead>\n",
       "    <tr style=\"text-align: right;\">\n",
       "      <th></th>\n",
       "      <th>language</th>\n",
       "      <th>number_articles</th>\n",
       "    </tr>\n",
       "  </thead>\n",
       "  <tbody>\n",
       "    <tr>\n",
       "      <th>0</th>\n",
       "      <td>English</td>\n",
       "      <td>6 744 000+</td>\n",
       "    </tr>\n",
       "    <tr>\n",
       "      <th>1</th>\n",
       "      <td>Español</td>\n",
       "      <td>1 906 000+</td>\n",
       "    </tr>\n",
       "    <tr>\n",
       "      <th>2</th>\n",
       "      <td>Русский</td>\n",
       "      <td>1 947 000+</td>\n",
       "    </tr>\n",
       "    <tr>\n",
       "      <th>3</th>\n",
       "      <td>日本語</td>\n",
       "      <td>1 392 000+</td>\n",
       "    </tr>\n",
       "    <tr>\n",
       "      <th>4</th>\n",
       "      <td>Deutsch</td>\n",
       "      <td>2 852 000+</td>\n",
       "    </tr>\n",
       "    <tr>\n",
       "      <th>5</th>\n",
       "      <td>Français</td>\n",
       "      <td>2 567 000+</td>\n",
       "    </tr>\n",
       "    <tr>\n",
       "      <th>6</th>\n",
       "      <td>Italiano</td>\n",
       "      <td>1 835 000+</td>\n",
       "    </tr>\n",
       "    <tr>\n",
       "      <th>7</th>\n",
       "      <td>中文</td>\n",
       "      <td>1 387 000+</td>\n",
       "    </tr>\n",
       "    <tr>\n",
       "      <th>8</th>\n",
       "      <td>العربية</td>\n",
       "      <td>العربية</td>\n",
       "    </tr>\n",
       "    <tr>\n",
       "      <th>9</th>\n",
       "      <td>Português</td>\n",
       "      <td>1 113 000+</td>\n",
       "    </tr>\n",
       "  </tbody>\n",
       "</table>\n",
       "</div>"
      ],
      "text/plain": [
       "    language number_articles\n",
       "0    English      6 744 000+\n",
       "1    Español      1 906 000+\n",
       "2    Русский      1 947 000+\n",
       "3        日本語      1 392 000+\n",
       "4    Deutsch      2 852 000+\n",
       "5   Français      2 567 000+\n",
       "6   Italiano      1 835 000+\n",
       "7         中文      1 387 000+\n",
       "8    العربية         العربية\n",
       "9  Português      1 113 000+"
      ]
     },
     "execution_count": 84,
     "metadata": {},
     "output_type": "execute_result"
    }
   ],
   "source": [
    "wiki_articles"
   ]
  }
 ],
 "metadata": {
  "kernelspec": {
   "display_name": "Python 3 (ipykernel)",
   "language": "python",
   "name": "python3"
  },
  "language_info": {
   "codemirror_mode": {
    "name": "ipython",
    "version": 3
   },
   "file_extension": ".py",
   "mimetype": "text/x-python",
   "name": "python",
   "nbconvert_exporter": "python",
   "pygments_lexer": "ipython3",
   "version": "3.11.4"
  }
 },
 "nbformat": 4,
 "nbformat_minor": 5
}
