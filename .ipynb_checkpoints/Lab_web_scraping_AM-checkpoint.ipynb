{
 "cells": [
  {
   "cell_type": "markdown",
   "id": "b217fd24",
   "metadata": {},
   "source": [
    "## Case Study: The site for recommendations - \"Gnod\"\n",
    "\n",
    "Antonio Montilla"
   ]
  },
  {
   "cell_type": "markdown",
   "id": "9b60b78e",
   "metadata": {},
   "source": [
    "### Lab | Web Scraping Single Page (GNOD part 1)\n",
    "- Web scraping the top 100 songs from https://www.popvortex.com/music/charts/top-100-songs.php"
   ]
  },
  {
   "cell_type": "code",
   "execution_count": 1,
   "id": "5650f072",
   "metadata": {},
   "outputs": [],
   "source": [
    "#importing libraries\n",
    "from bs4 import BeautifulSoup\n",
    "import requests\n",
    "import pandas as pd"
   ]
  },
  {
   "cell_type": "code",
   "execution_count": 2,
   "id": "f13c7f65",
   "metadata": {},
   "outputs": [],
   "source": [
    "#copying url\n",
    "url = \"https://www.popvortex.com/music/charts/top-100-songs.php\""
   ]
  },
  {
   "cell_type": "code",
   "execution_count": 3,
   "id": "4ca16754",
   "metadata": {},
   "outputs": [
    {
     "data": {
      "text/plain": [
       "200"
      ]
     },
     "execution_count": 3,
     "metadata": {},
     "output_type": "execute_result"
    }
   ],
   "source": [
    "#downloading html\n",
    "response = requests.get(url)\n",
    "response.status_code # 200 status code means OK!"
   ]
  },
  {
   "cell_type": "code",
   "execution_count": 4,
   "id": "fc233472",
   "metadata": {},
   "outputs": [],
   "source": [
    "#parseing html with BeatifulSoup\n",
    "soup = BeautifulSoup(response.content, \"html.parser\")"
   ]
  },
  {
   "cell_type": "code",
   "execution_count": 62,
   "id": "1ca23e41",
   "metadata": {},
   "outputs": [],
   "source": [
    "#checkin the code\n",
    "#soup"
   ]
  },
  {
   "cell_type": "code",
   "execution_count": 61,
   "id": "2ec72fc7",
   "metadata": {},
   "outputs": [
    {
     "data": {
      "text/plain": [
       "105"
      ]
     },
     "execution_count": 61,
     "metadata": {},
     "output_type": "execute_result"
    }
   ],
   "source": [
    "#selecting the top songs body > div.container > div:nth-child(4) > div.col-xs-12.col-md-8 > div.chart-wrapper\n",
    "#print(soup.select(\"body > div.container > div:nth-child(4) > div.col-xs-12.col-md-8 > div.chart-wrapper > div\" ))\n",
    "len(soup.select(\"body > div.container > div:nth-child(4) > div.col-xs-12.col-md-8 > div.chart-wrapper > div\" ))"
   ]
  },
  {
   "cell_type": "code",
   "execution_count": 63,
   "id": "58b9146a",
   "metadata": {},
   "outputs": [
    {
     "data": {
      "text/plain": [
       "<div class=\"feed-item music-chart flex-row\" id=\"chart-position-1\"><div class=\"cover-art col-xs-12 col-sm-4\"><p class=\"chart-position\">1</p><img alt=\"Lovin On Me - Jack Harlow Cover Art\" class=\"cover-image\" data-pin-description=\"Lovin On Me - Jack Harlow\" data-pin-media=\"https://is1-ssl.mzstatic.com/image/thumb/Music116/v4/c1/95/0e/c1950e0a-3fc8-83c2-8913-a14dd33bfe62/075679664990.jpg/1200x1200bb.png\" data-pin-url=\"https://www.popvortex.com/music/charts/top-100-songs.php\" height=\"170\" loading=\"lazy\" src=\"https://is1-ssl.mzstatic.com/image/thumb/Music116/v4/c1/95/0e/c1950e0a-3fc8-83c2-8913-a14dd33bfe62/075679664990.jpg/170x170bb.png\" width=\"170\"/> <audio controls=\"\" controlslist=\"nodownload\" preload=\"none\"><source src=\"https://audio-ssl.itunes.apple.com/itunes-assets/AudioPreview116/v4/ef/09/34/ef09346f-91c8-bc8d-7a40-b94d871bcf98/mzaf_11177645511189211683.plus.aac.p.m4a\"/></audio> </div><div class=\"chart-content col-xs-12 col-sm-8\"><p class=\"title-artist\"><cite class=\"title\">Lovin On Me</cite><em class=\"artist\">Jack Harlow</em></p><ul><li><strong>Genre</strong>: <a href=\"/music/charts/top-rap-songs.php\">Hip-Hop / Rap</a></li><li><strong>Release Date</strong>: November 10, 2023</li></ul><a class=\"buy-button button\" href=\"https://music.apple.com/us/album/lovin-on-me/1715277427?i=1715277428&amp;uo=2&amp;partnerId=11&amp;at=10l4UI&amp;itsct=music_box_link&amp;itscg=30200&amp;ls=1&amp;ct=music-songs&amp;app=music\" rel=\"nofollow noopener\">Apple Music / iTunes</a> <a aria-label=\"Buy Lovin On Me - Jack Harlow on Amazon\" class=\"amazon-buy button\" href=\"https://www.amazon.com/gp/search?ie=UTF8&amp;keywords=Lovin+On+Me+Jack+Harlow&amp;tag=popv0f-20&amp;search-alias=digital-music\" rel=\"nofollow noopener\" target=\"_blank\">Buy on Amazon</a> <div class=\"social-share\"><a class=\"facebook-share-button\" href=\"javascript: void(0)\" onclick=\"window.open('https://www.facebook.com/dialog/feed?app_id=178831188827052&amp;display=popup&amp;description=Lovin+On+Me+by+Jack+Harlow+is+currently+at+number+1+on+the+iTunes+top+100+songs+chart.&amp;link=https%3A%2F%2Fwww.popvortex.com%2Fmusic%2Fcharts%2Ftop-100-songs.php&amp;redirect_uri=http%3A%2F%2Fwww.popvortex.com%2Fpopup-close.html&amp;picture=https%3A%2F%2Fis1-ssl.mzstatic.com%2Fimage%2Fthumb%2FMusic116%2Fv4%2Fc1%2F95%2F0e%2Fc1950e0a-3fc8-83c2-8913-a14dd33bfe62%2F075679664990.jpg%2F170x170bb.png','sharer','toolbar=0,status=0,width=548,height=325');\"><img alt=\"Share on Facebook\" height=\"20\" loading=\"lazy\" src=\"../../images/facebook-share.png\" width=\"55\"/></a> <a class=\"pinterest-share-button\" data-pin-config=\"none\" data-pin-do=\"buttonPin\" href=\"//pinterest.com/pin/create/button/?url=https%3A%2F%2Fwww.popvortex.com%2Fmusic%2Fcharts%2Ftop-100-songs.php&amp;media=https%3A%2F%2Fis1-ssl.mzstatic.com%2Fimage%2Fthumb%2FMusic116%2Fv4%2Fc1%2F95%2F0e%2Fc1950e0a-3fc8-83c2-8913-a14dd33bfe62%2F075679664990.jpg%2F1200x1200bb.png&amp;description=Lovin On Me - Jack Harlow\"><img alt=\"Pinterest Button\" height=\"20\" loading=\"lazy\" src=\"//assets.pinterest.com/images/pidgets/pin_it_button.png\" width=\"40\"/></a> <a class=\"tweet-button\" href=\"https://twitter.com/intent/tweet?text=Lovin+On+Me+by+Jack+Harlow+is+%231+on+iTunes+top+100+songs+chart.&amp;hashtags=iTunes&amp;url=https://www.popvortex.com/music/charts/top-100-songs.php\"><span></span>Tweet</a></div></div></div>"
      ]
     },
     "execution_count": 63,
     "metadata": {},
     "output_type": "execute_result"
    }
   ],
   "source": [
    "#looking at first item\n",
    "soup.select(\"body > div.container > div:nth-child(4) > div.col-xs-12.col-md-8 > div.chart-wrapper > div\" )[0]"
   ]
  },
  {
   "cell_type": "code",
   "execution_count": 68,
   "id": "051d382b",
   "metadata": {},
   "outputs": [],
   "source": [
    "artists = []\n",
    "songs = []\n",
    "target_classes = ['feed-item', 'music-chart', 'flex-row', 'new-release'] #I had to add different class as only using 'flex-row' would exclude some songs\n",
    "chart_entries = soup.find_all('div', class_=target_classes)\n",
    "for entry in chart_entries:\n",
    "    title_artist = entry.find('p', class_='title-artist')\n",
    "    if title_artist:\n",
    "        title = title_artist.find('cite', class_='title').text.strip()\n",
    "        artist = title_artist.find('em', class_='artist').text.strip()\n",
    "        artists.append(artist)\n",
    "        songs.append(title)\n",
    "\n",
    "hot_songs = pd.DataFrame({\"artist\":artists, \"song\":songs})"
   ]
  },
  {
   "cell_type": "code",
   "execution_count": 69,
   "id": "eeb08521",
   "metadata": {},
   "outputs": [
    {
     "name": "stdout",
     "output_type": "stream",
     "text": [
      "101\n",
      "101\n"
     ]
    },
    {
     "data": {
      "text/html": [
       "<div>\n",
       "<style scoped>\n",
       "    .dataframe tbody tr th:only-of-type {\n",
       "        vertical-align: middle;\n",
       "    }\n",
       "\n",
       "    .dataframe tbody tr th {\n",
       "        vertical-align: top;\n",
       "    }\n",
       "\n",
       "    .dataframe thead th {\n",
       "        text-align: right;\n",
       "    }\n",
       "</style>\n",
       "<table border=\"1\" class=\"dataframe\">\n",
       "  <thead>\n",
       "    <tr style=\"text-align: right;\">\n",
       "      <th></th>\n",
       "      <th>artist</th>\n",
       "      <th>song</th>\n",
       "    </tr>\n",
       "  </thead>\n",
       "  <tbody>\n",
       "    <tr>\n",
       "      <th>1</th>\n",
       "      <td>Jack Harlow</td>\n",
       "      <td>Lovin On Me</td>\n",
       "    </tr>\n",
       "    <tr>\n",
       "      <th>2</th>\n",
       "      <td>Paul Russell</td>\n",
       "      <td>Lil Boo Thang</td>\n",
       "    </tr>\n",
       "    <tr>\n",
       "      <th>3</th>\n",
       "      <td>Chris Stapleton</td>\n",
       "      <td>White Horse</td>\n",
       "    </tr>\n",
       "    <tr>\n",
       "      <th>4</th>\n",
       "      <td>Zach Bryan</td>\n",
       "      <td>I Remember Everything (feat. Kacey Musgraves)</td>\n",
       "    </tr>\n",
       "    <tr>\n",
       "      <th>5</th>\n",
       "      <td>Jelly Roll</td>\n",
       "      <td>Need A Favor</td>\n",
       "    </tr>\n",
       "    <tr>\n",
       "      <th>...</th>\n",
       "      <td>...</td>\n",
       "      <td>...</td>\n",
       "    </tr>\n",
       "    <tr>\n",
       "      <th>96</th>\n",
       "      <td>David Kushner</td>\n",
       "      <td>Daylight</td>\n",
       "    </tr>\n",
       "    <tr>\n",
       "      <th>97</th>\n",
       "      <td>Warren Zeiders</td>\n",
       "      <td>Pretty Little Poison</td>\n",
       "    </tr>\n",
       "    <tr>\n",
       "      <th>98</th>\n",
       "      <td>HARDY</td>\n",
       "      <td>TRUCK BED</td>\n",
       "    </tr>\n",
       "    <tr>\n",
       "      <th>99</th>\n",
       "      <td>Luminara Stellaris</td>\n",
       "      <td>Forever Settled Inside Me</td>\n",
       "    </tr>\n",
       "    <tr>\n",
       "      <th>100</th>\n",
       "      <td>Lainey Wilson</td>\n",
       "      <td>Wildflowers and Wild Horses</td>\n",
       "    </tr>\n",
       "  </tbody>\n",
       "</table>\n",
       "<p>100 rows × 2 columns</p>\n",
       "</div>"
      ],
      "text/plain": [
       "                 artist                                           song\n",
       "1           Jack Harlow                                    Lovin On Me\n",
       "2          Paul Russell                                  Lil Boo Thang\n",
       "3       Chris Stapleton                                    White Horse\n",
       "4            Zach Bryan  I Remember Everything (feat. Kacey Musgraves)\n",
       "5            Jelly Roll                                   Need A Favor\n",
       "..                  ...                                            ...\n",
       "96        David Kushner                                       Daylight\n",
       "97       Warren Zeiders                           Pretty Little Poison\n",
       "98                HARDY                                      TRUCK BED\n",
       "99   Luminara Stellaris                      Forever Settled Inside Me\n",
       "100       Lainey Wilson                    Wildflowers and Wild Horses\n",
       "\n",
       "[100 rows x 2 columns]"
      ]
     },
     "execution_count": 69,
     "metadata": {},
     "output_type": "execute_result"
    }
   ],
   "source": [
    "#checking the dataframe\n",
    "print(len(hot_songs))\n",
    "hot_songs.drop_duplicates()\n",
    "print(len(hot_songs))\n",
    "#deleting the first row which was repeated:\n",
    "hot_songs.drop(index=hot_songs.index[0], axis=0, inplace=True)\n",
    "hot_songs.reset_index()\n",
    "hot_songs"
   ]
  },
  {
   "cell_type": "markdown",
   "id": "2334a18b",
   "metadata": {},
   "source": [
    "### Extending the hot_songs df using billboard public information\n",
    "\n",
    "For the second lab, I want to extend the hot_songs dataframe using top 100 song from Billborad published here: https://www.billboard.com/charts/greatest-hot-100-singles/"
   ]
  },
  {
   "cell_type": "code",
   "execution_count": 85,
   "id": "39b830c7",
   "metadata": {},
   "outputs": [],
   "source": [
    "#copying url\n",
    "url = \"https://www.billboard.com/charts/greatest-hot-100-singles/\""
   ]
  },
  {
   "cell_type": "code",
   "execution_count": 86,
   "id": "d77a84c9",
   "metadata": {},
   "outputs": [
    {
     "data": {
      "text/plain": [
       "200"
      ]
     },
     "execution_count": 86,
     "metadata": {},
     "output_type": "execute_result"
    }
   ],
   "source": [
    "#downloading html\n",
    "response = requests.get(url)\n",
    "response.status_code # 200 status code means OK!"
   ]
  },
  {
   "cell_type": "code",
   "execution_count": 87,
   "id": "cf9212ae",
   "metadata": {},
   "outputs": [],
   "source": [
    "#parseing html with BeatifulSoup\n",
    "soup = BeautifulSoup(response.content, \"html.parser\")"
   ]
  },
  {
   "cell_type": "code",
   "execution_count": 89,
   "id": "6dac78e9",
   "metadata": {},
   "outputs": [],
   "source": [
    "#checkin the code\n",
    "#soup"
   ]
  },
  {
   "cell_type": "code",
   "execution_count": 130,
   "id": "35bed32d",
   "metadata": {},
   "outputs": [],
   "source": [
    "#selecting the top songs #post-6760926 > div.pmc-paywall > div\n",
    "#soup.select(\"#post-6760926 > div.pmc-paywall > div > div\")"
   ]
  },
  {
   "cell_type": "code",
   "execution_count": 126,
   "id": "105df495",
   "metadata": {},
   "outputs": [],
   "source": [
    "#now creating the dataframe\n",
    "artists = []\n",
    "songs = []\n",
    "chart_rows = soup.select('.o-chart-results-list-row')\n",
    "for row in chart_rows:\n",
    "    title_element = row.select_one('.c-title')\n",
    "    artist_element = row.select_one('.c-label')\n",
    "    if title_element and artist_element:\n",
    "        title = title_element.text.strip()\n",
    "        artist = row.select_one('.c-label').find_next('span', class_='c-label').text.strip()\n",
    "        songs.append(title)\n",
    "        artists.append(artist)\n",
    "    \n",
    "hot_songs2 = pd.DataFrame({\"artist\":artists, \"song\":songs})"
   ]
  },
  {
   "cell_type": "code",
   "execution_count": 127,
   "id": "1e4021a6",
   "metadata": {},
   "outputs": [
    {
     "data": {
      "text/html": [
       "<div>\n",
       "<style scoped>\n",
       "    .dataframe tbody tr th:only-of-type {\n",
       "        vertical-align: middle;\n",
       "    }\n",
       "\n",
       "    .dataframe tbody tr th {\n",
       "        vertical-align: top;\n",
       "    }\n",
       "\n",
       "    .dataframe thead th {\n",
       "        text-align: right;\n",
       "    }\n",
       "</style>\n",
       "<table border=\"1\" class=\"dataframe\">\n",
       "  <thead>\n",
       "    <tr style=\"text-align: right;\">\n",
       "      <th></th>\n",
       "      <th>artist</th>\n",
       "      <th>song</th>\n",
       "    </tr>\n",
       "  </thead>\n",
       "  <tbody>\n",
       "    <tr>\n",
       "      <th>0</th>\n",
       "      <td>The Weeknd</td>\n",
       "      <td>Blinding Lights</td>\n",
       "    </tr>\n",
       "    <tr>\n",
       "      <th>1</th>\n",
       "      <td>Chubby Checker</td>\n",
       "      <td>The Twist</td>\n",
       "    </tr>\n",
       "    <tr>\n",
       "      <th>2</th>\n",
       "      <td>Santana Featuring Rob Thomas</td>\n",
       "      <td>Smooth</td>\n",
       "    </tr>\n",
       "    <tr>\n",
       "      <th>3</th>\n",
       "      <td>Bobby Darin</td>\n",
       "      <td>Mack The Knife</td>\n",
       "    </tr>\n",
       "    <tr>\n",
       "      <th>4</th>\n",
       "      <td>Mark Ronson Featuring Bruno Mars</td>\n",
       "      <td>Uptown Funk!</td>\n",
       "    </tr>\n",
       "    <tr>\n",
       "      <th>...</th>\n",
       "      <td>...</td>\n",
       "      <td>...</td>\n",
       "    </tr>\n",
       "    <tr>\n",
       "      <th>95</th>\n",
       "      <td>Donna Summer</td>\n",
       "      <td>Hot Stuff</td>\n",
       "    </tr>\n",
       "    <tr>\n",
       "      <th>96</th>\n",
       "      <td>Post Malone Featuring 21 Savage</td>\n",
       "      <td>Rockstar</td>\n",
       "    </tr>\n",
       "    <tr>\n",
       "      <th>97</th>\n",
       "      <td>Coolio Featuring L.V.</td>\n",
       "      <td>Gangsta's Paradise</td>\n",
       "    </tr>\n",
       "    <tr>\n",
       "      <th>98</th>\n",
       "      <td>The Steve Miller Band</td>\n",
       "      <td>Abracadabra</td>\n",
       "    </tr>\n",
       "    <tr>\n",
       "      <th>99</th>\n",
       "      <td>Carly Simon</td>\n",
       "      <td>You're So Vain</td>\n",
       "    </tr>\n",
       "  </tbody>\n",
       "</table>\n",
       "<p>100 rows × 2 columns</p>\n",
       "</div>"
      ],
      "text/plain": [
       "                              artist                song\n",
       "0                         The Weeknd     Blinding Lights\n",
       "1                     Chubby Checker           The Twist\n",
       "2       Santana Featuring Rob Thomas              Smooth\n",
       "3                        Bobby Darin      Mack The Knife\n",
       "4   Mark Ronson Featuring Bruno Mars        Uptown Funk!\n",
       "..                               ...                 ...\n",
       "95                      Donna Summer           Hot Stuff\n",
       "96   Post Malone Featuring 21 Savage            Rockstar\n",
       "97             Coolio Featuring L.V.  Gangsta's Paradise\n",
       "98             The Steve Miller Band         Abracadabra\n",
       "99                       Carly Simon      You're So Vain\n",
       "\n",
       "[100 rows x 2 columns]"
      ]
     },
     "execution_count": 127,
     "metadata": {},
     "output_type": "execute_result"
    }
   ],
   "source": [
    "hot_songs2"
   ]
  },
  {
   "cell_type": "code",
   "execution_count": 129,
   "id": "bc9784d9",
   "metadata": {},
   "outputs": [
    {
     "name": "stderr",
     "output_type": "stream",
     "text": [
      "/var/folders/ws/0xbhg9d95hd9g5nvrfz8pwk40000gn/T/ipykernel_71760/999307168.py:2: FutureWarning: The frame.append method is deprecated and will be removed from pandas in a future version. Use pandas.concat instead.\n",
      "  hot_songs_all = hot_songs.append(hot_songs2, ignore_index=True)\n"
     ]
    },
    {
     "data": {
      "text/html": [
       "<div>\n",
       "<style scoped>\n",
       "    .dataframe tbody tr th:only-of-type {\n",
       "        vertical-align: middle;\n",
       "    }\n",
       "\n",
       "    .dataframe tbody tr th {\n",
       "        vertical-align: top;\n",
       "    }\n",
       "\n",
       "    .dataframe thead th {\n",
       "        text-align: right;\n",
       "    }\n",
       "</style>\n",
       "<table border=\"1\" class=\"dataframe\">\n",
       "  <thead>\n",
       "    <tr style=\"text-align: right;\">\n",
       "      <th></th>\n",
       "      <th>artist</th>\n",
       "      <th>song</th>\n",
       "    </tr>\n",
       "  </thead>\n",
       "  <tbody>\n",
       "    <tr>\n",
       "      <th>0</th>\n",
       "      <td>Jack Harlow</td>\n",
       "      <td>Lovin On Me</td>\n",
       "    </tr>\n",
       "    <tr>\n",
       "      <th>1</th>\n",
       "      <td>Paul Russell</td>\n",
       "      <td>Lil Boo Thang</td>\n",
       "    </tr>\n",
       "    <tr>\n",
       "      <th>2</th>\n",
       "      <td>Chris Stapleton</td>\n",
       "      <td>White Horse</td>\n",
       "    </tr>\n",
       "    <tr>\n",
       "      <th>3</th>\n",
       "      <td>Zach Bryan</td>\n",
       "      <td>I Remember Everything (feat. Kacey Musgraves)</td>\n",
       "    </tr>\n",
       "    <tr>\n",
       "      <th>4</th>\n",
       "      <td>Jelly Roll</td>\n",
       "      <td>Need A Favor</td>\n",
       "    </tr>\n",
       "    <tr>\n",
       "      <th>...</th>\n",
       "      <td>...</td>\n",
       "      <td>...</td>\n",
       "    </tr>\n",
       "    <tr>\n",
       "      <th>195</th>\n",
       "      <td>Donna Summer</td>\n",
       "      <td>Hot Stuff</td>\n",
       "    </tr>\n",
       "    <tr>\n",
       "      <th>196</th>\n",
       "      <td>Post Malone Featuring 21 Savage</td>\n",
       "      <td>Rockstar</td>\n",
       "    </tr>\n",
       "    <tr>\n",
       "      <th>197</th>\n",
       "      <td>Coolio Featuring L.V.</td>\n",
       "      <td>Gangsta's Paradise</td>\n",
       "    </tr>\n",
       "    <tr>\n",
       "      <th>198</th>\n",
       "      <td>The Steve Miller Band</td>\n",
       "      <td>Abracadabra</td>\n",
       "    </tr>\n",
       "    <tr>\n",
       "      <th>199</th>\n",
       "      <td>Carly Simon</td>\n",
       "      <td>You're So Vain</td>\n",
       "    </tr>\n",
       "  </tbody>\n",
       "</table>\n",
       "<p>200 rows × 2 columns</p>\n",
       "</div>"
      ],
      "text/plain": [
       "                              artist  \\\n",
       "0                        Jack Harlow   \n",
       "1                       Paul Russell   \n",
       "2                    Chris Stapleton   \n",
       "3                         Zach Bryan   \n",
       "4                         Jelly Roll   \n",
       "..                               ...   \n",
       "195                     Donna Summer   \n",
       "196  Post Malone Featuring 21 Savage   \n",
       "197            Coolio Featuring L.V.   \n",
       "198            The Steve Miller Band   \n",
       "199                      Carly Simon   \n",
       "\n",
       "                                              song  \n",
       "0                                      Lovin On Me  \n",
       "1                                    Lil Boo Thang  \n",
       "2                                      White Horse  \n",
       "3    I Remember Everything (feat. Kacey Musgraves)  \n",
       "4                                     Need A Favor  \n",
       "..                                             ...  \n",
       "195                                      Hot Stuff  \n",
       "196                                       Rockstar  \n",
       "197                             Gangsta's Paradise  \n",
       "198                                    Abracadabra  \n",
       "199                                 You're So Vain  \n",
       "\n",
       "[200 rows x 2 columns]"
      ]
     },
     "execution_count": 129,
     "metadata": {},
     "output_type": "execute_result"
    }
   ],
   "source": [
    "#appending the two df\n",
    "hot_songs_all = hot_songs.append(hot_songs2, ignore_index=True)\n",
    "hot_songs_all"
   ]
  },
  {
   "cell_type": "code",
   "execution_count": null,
   "id": "b38cbf07",
   "metadata": {},
   "outputs": [],
   "source": []
  }
 ],
 "metadata": {
  "kernelspec": {
   "display_name": "Python 3 (ipykernel)",
   "language": "python",
   "name": "python3"
  },
  "language_info": {
   "codemirror_mode": {
    "name": "ipython",
    "version": 3
   },
   "file_extension": ".py",
   "mimetype": "text/x-python",
   "name": "python",
   "nbconvert_exporter": "python",
   "pygments_lexer": "ipython3",
   "version": "3.11.4"
  }
 },
 "nbformat": 4,
 "nbformat_minor": 5
}
