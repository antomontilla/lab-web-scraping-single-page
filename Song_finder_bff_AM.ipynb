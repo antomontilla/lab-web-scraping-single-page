{
 "cells": [
  {
   "cell_type": "markdown",
   "id": "7b6c0980",
   "metadata": {},
   "source": [
    "## Case Study: The site for recommendations - \"Gnod\"\n",
    "\n",
    "### Algorithm 'Song_finder_bff'\n",
    "\n",
    "Antonio Montilla"
   ]
  },
  {
   "cell_type": "markdown",
   "id": "ccf1fe4a",
   "metadata": {},
   "source": [
    "This notebook combines work from other notebooks in this same repository to build a song recommendation algorithm, using Spotify API.\n",
    "\n",
    "The algorithm will ask the user to input the name of a song and returns a recommendation based on the following criteria:\n",
    "- First, it checks whether or not the input song is currently a hot song, i.e. whether it is in the hot_songs_all dataframe (which was collected using web scrapping techniques from the websites https://www.popvortex.com/music/charts/top-100-songs.php and https://www.billboard.com/charts/greatest-hot-100-singles/ and saved in the csv file 'hot_songs_all.csv').\n",
    "- If the input song is indeed a hot song, then it recommends the user another hot song from the list.\n",
    "- If it is NOT a hot song, then:\n",
    "    * Collects the audio features from the Spotify API for the input song via a request.\n",
    "    * Sends the Spotify audio features of the submitted song to a clustering model, a model that has been fitted using information from 30,000 songs from different playlists in Spotify (and saved in cvs file 'songs_total_output.csv'.\n",
    "    * The previous step should assign a cluster number to the input song. With this information, the algorithm finally recommends a song from the same cluster number."
   ]
  },
  {
   "cell_type": "code",
   "execution_count": 1,
   "id": "5b971a22",
   "metadata": {},
   "outputs": [],
   "source": [
    "#importing libraries\n",
    "import requests\n",
    "import pandas as pd\n",
    "from pandas import json_normalize\n",
    "import numpy as np\n",
    "import random\n",
    "from random import randint\n",
    "from sklearn import cluster, datasets\n",
    "from sklearn.cluster import KMeans\n",
    "from sklearn.preprocessing import StandardScaler\n",
    "import spotipy\n",
    "from spotipy.oauth2 import SpotifyClientCredentials\n",
    "import pickle"
   ]
  },
  {
   "cell_type": "markdown",
   "id": "0b33dd17",
   "metadata": {},
   "source": [
    "### (1) Connecting with Spotify API"
   ]
  },
  {
   "cell_type": "code",
   "execution_count": 2,
   "id": "f6fbfe59",
   "metadata": {},
   "outputs": [],
   "source": [
    "secrets_file = open(\"secrets.txt\",\"r\")\n",
    "string = secrets_file.read()\n",
    "secrets_dict={}\n",
    "for line in string.split('\\n'):\n",
    "    if len(line) > 0:\n",
    "        #print(line.split(':'))\n",
    "        secrets_dict[line.split(':')[0]]=line.split(':')[1].strip()"
   ]
  },
  {
   "cell_type": "code",
   "execution_count": 3,
   "id": "5cafce46",
   "metadata": {},
   "outputs": [],
   "source": [
    "#Initialize SpotiPy with user credentials\n",
    "sp = spotipy.Spotify(auth_manager=SpotifyClientCredentials(client_id=secrets_dict['clientid'],\n",
    "                                                           client_secret=secrets_dict['clientsecret']))"
   ]
  },
  {
   "cell_type": "markdown",
   "id": "6b2cfba2",
   "metadata": {},
   "source": [
    "### (2) Importing CSV files, scaler and fitted K-Means model"
   ]
  },
  {
   "cell_type": "code",
   "execution_count": 10,
   "id": "7bb88a92",
   "metadata": {},
   "outputs": [],
   "source": [
    "#hot_song csv file\n",
    "hot_songs_all = pd.read_csv('hot_songs_all.csv')\n",
    "#songs_total_output csv file\n",
    "songs_total_output = pd.read_csv('songs_total_output.csv')\n",
    "#scaler\n",
    "Standardtransformer = pickle.load(open('Standardtransformer.pkl','rb'))\n",
    "#K-means model\n",
    "kmeans = pickle.load(open('kmean.pkl', 'rb'))"
   ]
  },
  {
   "cell_type": "markdown",
   "id": "51c92058",
   "metadata": {},
   "source": [
    "### (3) Building algorithm: song_finder_bff"
   ]
  },
  {
   "cell_type": "code",
   "execution_count": 11,
   "id": "409e15a6",
   "metadata": {},
   "outputs": [],
   "source": [
    "def song_finder_bff(song_name):\n",
    "    lower_case_song = song_name.lower()\n",
    "    if lower_case_song in hot_songs_all['song'].str.lower().tolist():\n",
    "        recommended_song = random.choice(hot_songs_all['song'])\n",
    "        return f\"We recommend you to listen '{recommended_song}' as well, one of top hot hits right now\"\n",
    "    else:\n",
    "        results = sp.search(q=song_name.lower(), limit=10)\n",
    "        tracks = json_normalize(results[\"tracks\"][\"items\"])\n",
    "        def expand_list_dict(row):\n",
    "            df = json_normalize(row['artists'])\n",
    "            df['song_id'] = row['id']\n",
    "            return df\n",
    "        tracks['artists_dfs'] = tracks.apply(expand_list_dict, axis=1)\n",
    "        artist_df = pd.DataFrame(columns=['external_urls.spotify', 'href', 'id', 'name', 'type', 'uri', 'song_id'])\n",
    "        for mini_df in tracks['artists_dfs']:\n",
    "            artist_df = pd.concat([artist_df, mini_df], axis=0)\n",
    "        df_merged = pd.merge(left=tracks,\n",
    "                    right=artist_df,\n",
    "                    how='inner',\n",
    "                    left_on='id',\n",
    "                    right_on='song_id')\n",
    "        #saving into a df_final the name of the song, artist and song_id associated with input song\n",
    "        df_final = df_merged[['name_x', 'name_y', 'song_id']]\n",
    "        #now need to confirm with user the song and artist from list.\n",
    "        #if yes, then do another request to Spotify to get song data; if not, ask the user again until possible.\n",
    "        row_index = 0 #so then it starts selecting the first row\n",
    "        while row_index < len(df_final):\n",
    "            x = input('Did you mean '+df_final['name_x'].iloc[row_index]+' by '+df_final['name_y'].iloc[row_index]+'?').lower()\n",
    "            if x in ['yes', 'y', 'ys', 'es', 'si', 'oui']:\n",
    "                song_info = json_normalize(sp.audio_features(df_final['song_id'].iloc[row_index]))\n",
    "                break #to break the while loop\n",
    "            else:\n",
    "                print('ok, let me try again')\n",
    "                row_index += 1 #to repeat the process but taking the next song in the df_final\n",
    "        song_input_df = song_info[['danceability', 'energy', 'key', 'loudness', 'mode', 'speechiness', 'acousticness', 'instrumentalness', 'liveness', 'valence', 'tempo', 'duration_ms', 'time_signature']]\n",
    "        song_input_df_scaled = Standardtransformer.transform(song_input_df)#scaling\n",
    "        song_input_df_scaled = pd.DataFrame(song_input_df_scaled,columns=song_input_df.columns)#creating df\n",
    "        cluster_song = kmeans.predict(song_input_df_scaled)\n",
    "        array = songs_total_output.song_artist[songs_total_output.cluster == cluster_song[0]].reset_index(drop=True)\n",
    "        recommended_song = random.choice(array)\n",
    "        return f\"We recommend you to listen '{recommended_song}' as well:)\""
   ]
  },
  {
   "cell_type": "code",
   "execution_count": 12,
   "id": "3719f66d",
   "metadata": {},
   "outputs": [
    {
     "name": "stdout",
     "output_type": "stream",
     "text": [
      "Did you mean Poker Face by Lady Gaga?si\n"
     ]
    },
    {
     "data": {
      "text/plain": [
       "\"We recommend you to listen 'Genova by Lilla Sällskapet' as well:)\""
      ]
     },
     "execution_count": 12,
     "metadata": {},
     "output_type": "execute_result"
    }
   ],
   "source": [
    "#trying with 'poker face'\n",
    "song_finder_bff('poker face')"
   ]
  },
  {
   "cell_type": "code",
   "execution_count": 13,
   "id": "7d742c82",
   "metadata": {},
   "outputs": [
    {
     "name": "stdout",
     "output_type": "stream",
     "text": [
      "Did you mean Music by Madonna?no\n",
      "ok, let me try again\n",
      "Did you mean Popular (with Playboi Carti & Madonna) - Music from the HBO Original Series by The Weeknd?yes\n"
     ]
    },
    {
     "data": {
      "text/plain": [
       "\"We recommend you to listen 'Karavaani by Roope Salminen & Koirat' as well:)\""
      ]
     },
     "execution_count": 13,
     "metadata": {},
     "output_type": "execute_result"
    }
   ],
   "source": [
    "#searching for 'music'\n",
    "song_finder_bff('music madonna')"
   ]
  },
  {
   "cell_type": "code",
   "execution_count": 14,
   "id": "e63bd33e",
   "metadata": {},
   "outputs": [
    {
     "name": "stdout",
     "output_type": "stream",
     "text": [
      "Did you mean Shakira: Bzrp Music Sessions, Vol. 53 by Bizarrap?si\n"
     ]
    },
    {
     "data": {
      "text/plain": [
       "\"We recommend you to listen 'Naked In The Rain by Infinity' as well:)\""
      ]
     },
     "execution_count": 14,
     "metadata": {},
     "output_type": "execute_result"
    }
   ],
   "source": [
    "#now for an artist 'shakira'\n",
    "song_finder_bff('Shakira')"
   ]
  },
  {
   "cell_type": "code",
   "execution_count": 15,
   "id": "c77105ff",
   "metadata": {},
   "outputs": [
    {
     "data": {
      "text/plain": [
       "\"We recommend you to listen 'Cruel Summer' as well, one of top hot hits right now\""
      ]
     },
     "execution_count": 15,
     "metadata": {},
     "output_type": "execute_result"
    }
   ],
   "source": [
    "#trying something from the hot list:\n",
    "song_finder_bff('Blinding Lights')"
   ]
  }
 ],
 "metadata": {
  "kernelspec": {
   "display_name": "Python 3 (ipykernel)",
   "language": "python",
   "name": "python3"
  },
  "language_info": {
   "codemirror_mode": {
    "name": "ipython",
    "version": 3
   },
   "file_extension": ".py",
   "mimetype": "text/x-python",
   "name": "python",
   "nbconvert_exporter": "python",
   "pygments_lexer": "ipython3",
   "version": "3.11.4"
  }
 },
 "nbformat": 4,
 "nbformat_minor": 5
}
